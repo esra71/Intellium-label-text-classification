{
 "cells": [
  {
   "cell_type": "code",
   "execution_count": 1,
   "metadata": {
    "pycharm": {
     "name": "#%%\n"
    }
   },
   "outputs": [],
   "source": [
    "import numpy as np\n",
    "import pandas as pd\n",
    "from sklearn.model_selection import train_test_split\n",
    "from sklearn.preprocessing import LabelEncoder\n",
    "from tensorflow.keras.preprocessing.text import Tokenizer\n",
    "from tensorflow.keras.preprocessing.sequence import pad_sequences\n",
    "from tensorflow.keras.models import Sequential\n",
    "from tensorflow.keras.layers import Dense, Embedding, LSTM, SpatialDropout1D\n",
    "from tensorflow.keras.utils import to_categorical\n"
   ]
  },
  {
   "cell_type": "code",
   "execution_count": 2,
   "metadata": {
    "pycharm": {
     "name": "#%%\n"
    }
   },
   "outputs": [],
   "source": [
    "data = pd.read_csv('adim11.csv', encoding='iso-8859-9')"
   ]
  },
  {
   "cell_type": "code",
   "execution_count": 3,
   "metadata": {},
   "outputs": [],
   "source": [
    "X = data['Description']\n",
    "y = data['Values']\n",
    "\n",
    "X_train, X_test, y_train, y_test = train_test_split(X, y, test_size=0.2, random_state=42)\n",
    "\n",
    "# Title sütununu ekleyin\n",
    "title = data['Title']\n",
    "X_train_title, X_test_title, y_train_title, y_test_title = train_test_split(title, y, test_size=0.2, random_state=42)\n",
    "\n",
    "# X_train ve X_test verilerine Title sütununu ekleyin\n",
    "X_train = X_train.str.cat(X_train_title, sep=' Title: ')\n",
    "X_test = X_test.str.cat(X_test_title, sep=' Title: ')"
   ]
  },
  {
   "cell_type": "code",
   "execution_count": 4,
   "metadata": {},
   "outputs": [],
   "source": [
    "X_description = data['Description']\n",
    "X_title = data['Title']\n",
    "X = X_description + ' ' + X_title\n",
    "y = data['Values']\n",
    "X_train, X_test, y_train, y_test = train_test_split(X, y, test_size=0.2, random_state=42)\n"
   ]
  },
  {
   "cell_type": "code",
   "execution_count": 5,
   "metadata": {},
   "outputs": [],
   "source": [
    "X_train = X_train.fillna(\" \")\n",
    "X_test = X_test.fillna(\" \")"
   ]
  },
  {
   "cell_type": "code",
   "execution_count": 6,
   "metadata": {
    "pycharm": {
     "name": "#%%\n"
    }
   },
   "outputs": [],
   "source": [
    "max_features = 2000\n",
    "tokenizer = Tokenizer(num_words=max_features, split=' ')\n",
    "tokenizer.fit_on_texts(X_train.values)\n",
    "X_train_seq = tokenizer.texts_to_sequences(X_train)\n",
    "X_test_seq = tokenizer.texts_to_sequences(X_test)\n",
    "\n",
    "max_seq_length = 100\n",
    "X_train_padded = pad_sequences(X_train_seq, maxlen=max_seq_length)\n",
    "X_test_padded = pad_sequences(X_test_seq, maxlen=max_seq_length)\n"
   ]
  },
  {
   "cell_type": "code",
   "execution_count": 7,
   "metadata": {
    "pycharm": {
     "name": "#%%\n"
    }
   },
   "outputs": [],
   "source": [
    "le = LabelEncoder()\n",
    "y_train_enc = le.fit_transform(y_train)\n",
    "y_test_enc = le.transform(y_test)\n",
    "num_classes = len(le.classes_)\n",
    "\n",
    "y_train_one_hot = to_categorical(y_train_enc, num_classes=num_classes)\n",
    "y_test_one_hot = to_categorical(y_test_enc, num_classes=num_classes)"
   ]
  },
  {
   "cell_type": "code",
   "execution_count": 8,
   "metadata": {
    "pycharm": {
     "name": "#%%\n"
    }
   },
   "outputs": [],
   "source": [
    "#orijinal\n",
    "embedding_dim = 128\n",
    "\n",
    "model = Sequential()\n",
    "model.add(Embedding(max_features, embedding_dim, input_length=max_seq_length))\n",
    "model.add(SpatialDropout1D(0.4))\n",
    "model.add(LSTM(128, dropout=0.2, recurrent_dropout=0.2))\n",
    "model.add(Dense(num_classes, activation='softmax'))\n",
    "model.compile(loss='categorical_crossentropy', optimizer='adam', metrics=['accuracy'])"
   ]
  },
  {
   "cell_type": "code",
   "execution_count": 9,
   "metadata": {
    "pycharm": {
     "name": "#%%\n"
    }
   },
   "outputs": [
    {
     "name": "stdout",
     "output_type": "stream",
     "text": [
      "Epoch 1/5\n",
      "55/55 [==============================] - 23s 323ms/step - loss: 1.1048 - accuracy: 0.5534 - val_loss: 0.9191 - val_accuracy: 0.7763\n",
      "Epoch 2/5\n",
      "55/55 [==============================] - 15s 269ms/step - loss: 0.6380 - accuracy: 0.8178 - val_loss: 0.5095 - val_accuracy: 0.8196\n",
      "Epoch 3/5\n",
      "55/55 [==============================] - 14s 262ms/step - loss: 0.2798 - accuracy: 0.9052 - val_loss: 0.2279 - val_accuracy: 0.9247\n",
      "Epoch 4/5\n",
      "55/55 [==============================] - 14s 255ms/step - loss: 0.1285 - accuracy: 0.9657 - val_loss: 0.1236 - val_accuracy: 0.9589\n",
      "Epoch 5/5\n",
      "55/55 [==============================] - 14s 256ms/step - loss: 0.0445 - accuracy: 0.9909 - val_loss: 0.0595 - val_accuracy: 0.9863\n"
     ]
    },
    {
     "data": {
      "text/plain": [
       "<keras.callbacks.History at 0x254e2505000>"
      ]
     },
     "execution_count": 9,
     "metadata": {},
     "output_type": "execute_result"
    }
   ],
   "source": [
    "batch_size = 32\n",
    "epochs = 5\n",
    "\n",
    "model.fit(\n",
    "    X_train_padded, y_train_one_hot,\n",
    "    epochs=epochs, batch_size=batch_size,\n",
    "validation_data=(X_test_padded, y_test_one_hot),\n",
    "verbose=1\n",
    ")"
   ]
  },
  {
   "cell_type": "code",
   "execution_count": 10,
   "metadata": {
    "pycharm": {
     "name": "#%%\n"
    }
   },
   "outputs": [
    {
     "name": "stdout",
     "output_type": "stream",
     "text": [
      "14/14 [==============================] - 1s 38ms/step - loss: 0.0595 - accuracy: 0.9863\n",
      "Test puanı: 0.0595, accuracy: 0.9863\n"
     ]
    }
   ],
   "source": [
    "score, accuracy = model.evaluate(X_test_padded, y_test_one_hot, batch_size=batch_size, verbose=1)\n",
    "print(\"Test puanı: {:.4f}, accuracy: {:.4f}\".format(score, accuracy))"
   ]
  },
  {
   "cell_type": "code",
   "execution_count": 18,
   "metadata": {
    "pycharm": {
     "name": "#%%\n"
    }
   },
   "outputs": [
    {
     "name": "stdout",
     "output_type": "stream",
     "text": [
      "1/1 [==============================] - 0s 59ms/step\n",
      "Tahmin edilen kategori: 0.0\n",
      "Technical Support\n"
     ]
    }
   ],
   "source": [
    "\n",
    "def predict_category(text):\n",
    "    text_seq = tokenizer.texts_to_sequences([text])\n",
    "    text_padded = pad_sequences(text_seq, maxlen=max_seq_length)\n",
    "    prediction = model.predict(text_padded)\n",
    "    predicted_class = le.inverse_transform([np.argmax(prediction)])[0]\n",
    "    return predicted_class\n",
    "\n",
    "new_text = \"kullanici giriş hatası murat arslan\"\n",
    "predicted_category = predict_category(new_text)\n",
    "print(\"Tahmin edilen kategori:\", predicted_category)\n",
    "if predict_category == 0 :\n",
    "    print('Report a BUG')\n",
    "elif predict_category == 1 :\n",
    "    print('Suggest a new future')\n",
    "elif predict_category == 2 :\n",
    "    print('Suggest Improvement')\n",
    "else:\n",
    "    print('Technical Support')\n"
   ]
  }
 ],
 "metadata": {
  "kernelspec": {
   "display_name": "Python 3.10.5 64-bit",
   "language": "python",
   "name": "python3"
  },
  "language_info": {
   "codemirror_mode": {
    "name": "ipython",
    "version": 3
   },
   "file_extension": ".py",
   "mimetype": "text/x-python",
   "name": "python",
   "nbconvert_exporter": "python",
   "pygments_lexer": "ipython3",
   "version": "3.10.5"
  },
  "orig_nbformat": 4,
  "vscode": {
   "interpreter": {
    "hash": "77166de1c351ea371dae0ccf672aa0a3558769c714b5389e36a0c264c40ed330"
   }
  }
 },
 "nbformat": 4,
 "nbformat_minor": 2
}
