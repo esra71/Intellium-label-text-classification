{
 "cells": [
  {
   "cell_type": "code",
   "execution_count": 3,
   "metadata": {},
   "outputs": [
    {
     "name": "stderr",
     "output_type": "stream",
     "text": [
      "[nltk_data] Downloading package stopwords to\n",
      "[nltk_data]     C:\\Users\\Burak\\AppData\\Roaming\\nltk_data...\n",
      "[nltk_data]   Package stopwords is already up-to-date!\n"
     ]
    }
   ],
   "source": [
    "import csv\n",
    "import random\n",
    "import nltk\n",
    "\n",
    "# NLTK stopwords listesini indir\n",
    "nltk.download('stopwords')\n",
    "\n",
    "# Türkçe stopwords listesini al\n",
    "turkish_stopwords = set(nltk.corpus.stopwords.words('turkish'))\n",
    "\n",
    "# Kaç kez çoğaltmak istediğinizi burada belirtin\n",
    "duplicate_count = 2\n",
    "\n",
    "duplicated_rows = [] # burada listeyi tanımlayın\n",
    "\n",
    "with open('adim10.csv', 'r', newline='', encoding='utf-8') as csv_file:\n",
    "    reader = csv.DictReader(csv_file)\n",
    "\n",
    "    # Sütun başlıklarını al\n",
    "    headers = reader.fieldnames\n",
    "    \n",
    "    # İlk verileri yazdır\n",
    "    with open('adim11.csv', 'w', newline='', encoding='utf-8') as out_file:\n",
    "        writer = csv.DictWriter(out_file, fieldnames=headers)\n",
    "        writer.writeheader()\n",
    "        for row in reader:\n",
    "            for header in headers:\n",
    "                row[header] = row[header].lower().encode('utf-8').decode('utf-8')\n",
    "                # Stopwords'leri çıkar\n",
    "                row[header] = ' '.join([word for word in row[header].split() if word not in turkish_stopwords])\n",
    "            writer.writerow(row)\n",
    "            \n",
    "\n",
    "            for i in range(duplicate_count):\n",
    "                # Çoğaltılmış satırı oluştur\n",
    "                duplicated_row = {}\n",
    "                for header in headers:\n",
    "                    if header == 'Description':\n",
    "                        duplicated_row[header] = row[header]\n",
    "                    elif header == 'Title':\n",
    "                        duplicated_row[header] = row[header] \n",
    "                    else:\n",
    "                        if row[header]:\n",
    "                            duplicated_row[header] = row[header]\n",
    "                        else:\n",
    "                            duplicated_row[header] = ''\n",
    "                \n",
    "                duplicated_rows.append(duplicated_row)\n",
    "        \n",
    "        # Kopyalanan satırları rastgele karıştır\n",
    "        random.shuffle(duplicated_rows)\n",
    "        \n",
    "        # Rastgele karıştırılmış satırları dosyaya yazdır\n",
    "        with open('adim11.csv', 'a', newline='', encoding='utf-8') as csv_file:\n",
    "            writer = csv.DictWriter(csv_file, fieldnames=headers)\n",
    "            for row in duplicated_rows:\n",
    "                for header in headers:\n",
    "                    row[header] = row[header].lower().encode('utf-8').decode('utf-8')\n",
    "                    # Stopwords'leri çıkar\n",
    "                    row[header] = ' '.join([word for word in row[header].split() if word not in turkish_stopwords])\n",
    "                writer.writerow(row)\n"
   ]
  }
 ],
 "metadata": {
  "kernelspec": {
   "display_name": "Python 3.10.5 64-bit",
   "language": "python",
   "name": "python3"
  },
  "language_info": {
   "codemirror_mode": {
    "name": "ipython",
    "version": 3
   },
   "file_extension": ".py",
   "mimetype": "text/x-python",
   "name": "python",
   "nbconvert_exporter": "python",
   "pygments_lexer": "ipython3",
   "version": "3.10.5"
  },
  "orig_nbformat": 4,
  "vscode": {
   "interpreter": {
    "hash": "77166de1c351ea371dae0ccf672aa0a3558769c714b5389e36a0c264c40ed330"
   }
  }
 },
 "nbformat": 4,
 "nbformat_minor": 2
}
